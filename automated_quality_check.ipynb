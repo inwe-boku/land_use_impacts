{
 "cells": [
  {
   "cell_type": "code",
   "execution_count": 1,
   "metadata": {},
   "outputs": [],
   "source": [
    "import numpy as np\n",
    "import pandas as pd\n",
    "import pycountry\n",
    "import glob"
   ]
  },
  {
   "cell_type": "code",
   "execution_count": 2,
   "metadata": {},
   "outputs": [],
   "source": [
    "path = '/data/users/kgruber/other-data/impacts_paper/'\n",
    "results_path = path + 'individual-quality-check/'\n",
    "review_path = path + 'review_rounds/'\n",
    "output_path = path + 'after-automated-quality-check/'"
   ]
  },
  {
   "cell_type": "code",
   "execution_count": 3,
   "metadata": {},
   "outputs": [],
   "source": [
    "files = glob.glob(results_path + 'results_*') + [results_path + 'new_values.xlsx']"
   ]
  },
  {
   "cell_type": "markdown",
   "metadata": {},
   "source": [
    "read and merge files"
   ]
  },
  {
   "cell_type": "code",
   "execution_count": 4,
   "metadata": {},
   "outputs": [],
   "source": [
    "for file in files:\n",
    "    f = pd.read_excel(file,engine='openpyxl',index_col=0)\n",
    "    f = f[~f.index.isna()]\n",
    "    if 'responses' in globals():\n",
    "        responses = pd.concat([responses,f],axis=0)\n",
    "    else:\n",
    "        responses = f"
   ]
  },
  {
   "cell_type": "markdown",
   "metadata": {},
   "source": [
    "## entry has been individually checked"
   ]
  },
  {
   "cell_type": "code",
   "execution_count": 5,
   "metadata": {},
   "outputs": [],
   "source": [
    "individual_check = responses['Checked'].replace(1,'Passed').replace(np.nan,'Failed')\n",
    "individual_check.name = 'individual_check'"
   ]
  },
  {
   "cell_type": "markdown",
   "metadata": {},
   "source": [
    "## iso codes"
   ]
  },
  {
   "cell_type": "code",
   "execution_count": 6,
   "metadata": {},
   "outputs": [],
   "source": [
    "iso_codes = [list(pycountry.countries)[i].alpha_2 for i in range(len(list(pycountry.countries)))]"
   ]
  },
  {
   "cell_type": "code",
   "execution_count": 7,
   "metadata": {
    "code_folding": [
     0
    ]
   },
   "outputs": [],
   "source": [
    "def check_iso(code):\n",
    "    if code in iso_codes:\n",
    "        return 'Passed'\n",
    "    else:\n",
    "        return 'Failed'"
   ]
  },
  {
   "cell_type": "code",
   "execution_count": 8,
   "metadata": {},
   "outputs": [],
   "source": [
    "is_iso_code = pd.Series(responses['Country:'].apply(check_iso),name='iso_code')"
   ]
  },
  {
   "cell_type": "markdown",
   "metadata": {},
   "source": [
    "## numeric values"
   ]
  },
  {
   "cell_type": "code",
   "execution_count": 9,
   "metadata": {
    "code_folding": [
     0
    ]
   },
   "outputs": [],
   "source": [
    "def check_float(number):\n",
    "    try:\n",
    "        if np.isnan(float(number)):\n",
    "            return 'Failed'\n",
    "        else:\n",
    "            return 'Passed'\n",
    "    except:\n",
    "        return 'Failed'"
   ]
  },
  {
   "cell_type": "code",
   "execution_count": 10,
   "metadata": {},
   "outputs": [],
   "source": [
    "value_is_numeric = pd.Series(responses['4a. Numeric value, e.g., 0.3, 1.5, 3'].apply(check_float),name='numeric_value')"
   ]
  },
  {
   "cell_type": "markdown",
   "metadata": {},
   "source": [
    "## self calculated value = reproduced value (leave this for the end)"
   ]
  },
  {
   "cell_type": "code",
   "execution_count": null,
   "metadata": {},
   "outputs": [],
   "source": []
  },
  {
   "cell_type": "markdown",
   "metadata": {},
   "source": [
    "## Consistency between 3 used metric and 10 method of power calculation"
   ]
  },
  {
   "cell_type": "markdown",
   "metadata": {},
   "source": [
    "### categorise metrics and power related components"
   ]
  },
  {
   "cell_type": "code",
   "execution_count": 11,
   "metadata": {},
   "outputs": [],
   "source": [
    "power_related_metrics = ['power_density','installed_power_density','output_power_density','power per unit area',\n",
    "                         'capacity_density']\n",
    "energy_related_metrics = ['energy_density','surface_performance_ratio','energy_yields',\n",
    "                          'aperture_specific_net_electrical_output']\n",
    "land_related_metrics = ['land_use_efficiency','land_requirements','total_impact_area','direct_impact_area_permanent',\n",
    "                        'direct_impact_area_temporary','direct_impact_area','land_transformation','land_use_footprints',\n",
    "                        'land_use_requirements','area_requirements','direct_land_requirements','land_occupation',\n",
    "                        'spatial_footprint','land-use intensity','land use intensity',' land use intensity',\n",
    "                        'land_use_intensity','land_use','land_area','area_required_by_system']\n",
    "other_metrics = ['land_use per vehicle mile traveled (based on land_use_intensity)','land-use per vehicle mile',\n",
    "          'land-use impact (total habitat developed)']"
   ]
  },
  {
   "cell_type": "code",
   "execution_count": 12,
   "metadata": {},
   "outputs": [],
   "source": [
    "power_related_components_general = ['nameplate (installed) capacity','nameplate (installed) capacity DC',\n",
    "                                    'nameplate_capacity','nominal nameplate capacity','peak_rated_power',\n",
    "                                    'peak_capacity','author assumes a typical power per unit area of 2.5\\u2009W\\u2009m−2',\n",
    "                                    'commercial module output','module']\n",
    "power_related_components_capacity_factor = ['nameplate capacity multiplied by capacity factor',\n",
    "                                            'nameplate (installed) capacity multiplied by capacity factor',\n",
    "                                            'wind-density multiplied by capacity factor',\n",
    "                                            'wind density multiplied by capacity factor',\n",
    "                                            'solar constant/insolation multiplied by capacity factor/efficiency',\n",
    "                                            'typical solar insolation at average-insolation location',\n",
    "                                            'typical solar insolation at high-insolation location']\n",
    "energy_related_components = ['estimated energy generation (unsure what it means)','modelled energy generation',\n",
    "                             'simulated using ﬂow-sheet computer program based softbeen simulated using ﬂow-sheet computer program based software Cycle-Tempo',\n",
    "                             'reported energy generation','net energy generation (electricity generation after substracting energy needed for manufacturing/dismantling, construction/operation, and transportation)',\n",
    "                             'experimentally measured','annual energy production','net output']\n",
    "unclear_components = ['unclear','number of turbines of a particular type','no power component','no power']"
   ]
  },
  {
   "cell_type": "code",
   "execution_count": 13,
   "metadata": {},
   "outputs": [],
   "source": [
    "metrics_classification = pd.Series(['power']*len(power_related_metrics)+\n",
    "                                   ['energy']*len(energy_related_metrics)+\n",
    "                                   ['other']*(len(land_related_metrics)+len(other_metrics)),\n",
    "                                  index = power_related_metrics+energy_related_metrics+land_related_metrics+other_metrics)\n",
    "component_classification = pd.Series(['power']*(len(power_related_components_general)+len(power_related_components_capacity_factor))+\n",
    "                                     ['energy']*len(energy_related_components)+\n",
    "                                     ['other']*len(unclear_components),\n",
    "                                     index = power_related_components_general+power_related_components_capacity_factor+energy_related_components+unclear_components)"
   ]
  },
  {
   "cell_type": "markdown",
   "metadata": {},
   "source": [
    "### check metrics"
   ]
  },
  {
   "cell_type": "code",
   "execution_count": 14,
   "metadata": {},
   "outputs": [],
   "source": [
    "def check_metric(data):\n",
    "    metric = metrics_classification[data['3. Metrics used:']]\n",
    "    component = component_classification[data['10. Power-related component of land-use requirements is represented by:']]\n",
    "    if metric =='other' or component =='other':\n",
    "        return 'Unclear'\n",
    "    if metric ==  component:\n",
    "        return 'Passed'\n",
    "    else:\n",
    "        return 'Failed'"
   ]
  },
  {
   "cell_type": "code",
   "execution_count": 15,
   "metadata": {},
   "outputs": [],
   "source": [
    "metric_fits_powercalculation = pd.Series(responses.apply(check_metric,axis=1),name='metric_fits_powercalculation')"
   ]
  },
  {
   "cell_type": "markdown",
   "metadata": {},
   "source": [
    "## Unit match metrics"
   ]
  },
  {
   "cell_type": "markdown",
   "metadata": {},
   "source": [
    "### prepare unit columns"
   ]
  },
  {
   "cell_type": "markdown",
   "metadata": {},
   "source": [
    "#### merge columns"
   ]
  },
  {
   "cell_type": "code",
   "execution_count": 16,
   "metadata": {},
   "outputs": [],
   "source": [
    "def merge_col(line):\n",
    "    return line.dropna().values"
   ]
  },
  {
   "cell_type": "code",
   "execution_count": 17,
   "metadata": {},
   "outputs": [],
   "source": [
    "measurement_unit = responses[['4c-1. Measurement unit:','4c-2. Measurement unit:']].apply(merge_col,axis=1)"
   ]
  },
  {
   "cell_type": "markdown",
   "metadata": {},
   "source": [
    "there are two entries where there are values in both columns"
   ]
  },
  {
   "cell_type": "code",
   "execution_count": 18,
   "metadata": {},
   "outputs": [
    {
     "data": {
      "text/plain": [
       "2"
      ]
     },
     "execution_count": 18,
     "metadata": {},
     "output_type": "execute_result"
    }
   ],
   "source": [
    "(measurement_unit.apply(len)!=1).sum()"
   ]
  },
  {
   "cell_type": "code",
   "execution_count": 19,
   "metadata": {
    "code_folding": []
   },
   "outputs": [
    {
     "data": {
      "text/plain": [
       "0.0          [DC, MW/ha]\n",
       "1.0    [DC, MWh/year/ha]\n",
       "dtype: object"
      ]
     },
     "execution_count": 19,
     "metadata": {},
     "output_type": "execute_result"
    }
   ],
   "source": [
    "measurement_unit[(measurement_unit.apply(len)!=1)]"
   ]
  },
  {
   "cell_type": "markdown",
   "metadata": {},
   "source": [
    "only use second value"
   ]
  },
  {
   "cell_type": "code",
   "execution_count": 20,
   "metadata": {},
   "outputs": [],
   "source": [
    "measurement_unit[measurement_unit.apply(len)!=1] = measurement_unit[measurement_unit.apply(len)!=1].apply(lambda x: [x[1]])"
   ]
  },
  {
   "cell_type": "code",
   "execution_count": 21,
   "metadata": {},
   "outputs": [],
   "source": [
    "measurement_unit = measurement_unit.apply(lambda x: x[0])"
   ]
  },
  {
   "cell_type": "markdown",
   "metadata": {},
   "source": [
    "#### unify units - replace similar units with one writing"
   ]
  },
  {
   "cell_type": "code",
   "execution_count": 22,
   "metadata": {},
   "outputs": [],
   "source": [
    "replace = pd.DataFrame({'replace':['acres/MW', 'm²/GWh', 'ha/GWh/y',    'W m-2', 'W/m²', 'WP/m2', 'W_p/m²', 'We m-2', 'We m−2', 'We/m²', 'W_e/m2', 'w/ft2', 'kW_e/m²', 'MWi km−2', 'GW_e/m2', 'kWh/year/m²', 'kWh/m²year',  'kWh/m2/year', 'kWh/m²/year', 'MWh/year/m²', 'GWh/yr/m2',   'GJ/m2/year', 'rho_e W_e/m2', 'm^2', 'm2/VPM (Vehicl mile traveled)'],\n",
    "                        'with':   ['acre/MW',  'm2/GWh', 'ha/GWh/year', 'W/m2',  'W/m2', 'Wp/m2', 'Wp/m2',  'We/m2',  'We/m2',  'We/m2', 'We/m2',  'W/ft2', 'kWe/m2',  'MWi/km2', 'GWe/m2',   'kWh/year/m2', 'kWh/year/m2', 'kWh/year/m2', 'kWh/year/m2', 'MWh/year/m2', 'GWh/year/m2', 'GJ/year/m2', 'rhoe We/m2',   'm2',  'm2/VPM (Vehicle mile traveled)']})"
   ]
  },
  {
   "cell_type": "code",
   "execution_count": 23,
   "metadata": {},
   "outputs": [],
   "source": [
    "for i in range(len(replace)):\n",
    "    measurement_unit = measurement_unit.replace(replace['replace'][i],replace['with'][i])"
   ]
  },
  {
   "cell_type": "markdown",
   "metadata": {},
   "source": [
    "### categorise units"
   ]
  },
  {
   "cell_type": "code",
   "execution_count": 24,
   "metadata": {},
   "outputs": [],
   "source": [
    "footprint_power_related = ['m2/W','m2/Wp','m2/kW','m2/kWp','m2/MW','ha/MW','ha/MWp','acre/MW','acre/MW-DC',\n",
    "                           'acre/MW-AC','km2/MW']\n",
    "footprint_energy_related = ['m2/MWh','m2/GWh','km2/GWh','km2/TWh']\n",
    "footprint_annual_energy_related = ['m2/MWh/year','ha/MWh/year','ha/GWh/year','ha/TWh/year','km2/TWh/year']\n",
    "power_density = ['W/m2','Wp/m2','We/m2','W/ft2','kW/m2','kWp/m2','kWe/m2','kW/ha','kW/acre','MW/m2',\n",
    "                 'MW/ha','MWp/ha','MW/km2','MWi/km2','MW/acre','GWe/m2']\n",
    "energy_density = ['Wh/cm2/day','kWh/year/m2','kWh/year/acre','kWh/year/ft2','kWh/year/ha','MWh/year/acre',\n",
    "                  'MWh/year/m2','MWh/year/ha','GWh/year/m2','GWh/year/km2','GJ/year/m2','TWh/year/km2']\n",
    "unclear_units = ['MJ/m2','GJ/unit/year','km2 year/GWh','kW/ft','km/GWh','m2/VPM (Vehicle mile traveled)',\n",
    "                 'm2','rhoe We/m2','MW/h/ha']"
   ]
  },
  {
   "cell_type": "code",
   "execution_count": 25,
   "metadata": {},
   "outputs": [],
   "source": [
    "metrics_classification = pd.Series(['power']*len(power_related_metrics)+\n",
    "                                   ['energy']*len(energy_related_metrics)+\n",
    "                                   ['footprint']*len(land_related_metrics)+\n",
    "                                   ['other']*len(other_metrics),\n",
    "                                  index = power_related_metrics+energy_related_metrics+land_related_metrics+other_metrics)\n",
    "unit_classification = pd.Series(['power']*len(power_density)+\n",
    "                                ['energy']*len(energy_density)+\n",
    "                                ['footprint']*(len(footprint_power_related)+len(footprint_energy_related)+len(footprint_annual_energy_related))+\n",
    "                                ['other']*len(unclear_units),\n",
    "                                index = power_density+energy_density+footprint_power_related+footprint_energy_related+footprint_annual_energy_related+unclear_units)"
   ]
  },
  {
   "cell_type": "markdown",
   "metadata": {},
   "source": [
    "### check units"
   ]
  },
  {
   "cell_type": "code",
   "execution_count": 26,
   "metadata": {
    "code_folding": []
   },
   "outputs": [],
   "source": [
    "def check_unit(data):\n",
    "    metric = metrics_classification[data['Metric']]\n",
    "    unit = unit_classification[data['Unit']]\n",
    "    if metric =='other' or unit =='other':\n",
    "        return 'Unclear'\n",
    "    if metric ==  unit:\n",
    "        return 'Passed'\n",
    "    else:\n",
    "        return 'Failed'"
   ]
  },
  {
   "cell_type": "code",
   "execution_count": 27,
   "metadata": {},
   "outputs": [],
   "source": [
    "metric_unit = pd.DataFrame({'Metric':responses['3. Metrics used:'].values,\n",
    "                            'Unit':measurement_unit.values},\n",
    "                           index=responses.index)\n",
    "metric_fits_unit = pd.Series(metric_unit.apply(check_unit,axis=1),name='metric_fits_unit')"
   ]
  },
  {
   "cell_type": "markdown",
   "metadata": {},
   "source": [
    "## Check range of values"
   ]
  },
  {
   "cell_type": "markdown",
   "metadata": {},
   "source": [
    "### unify units"
   ]
  },
  {
   "cell_type": "markdown",
   "metadata": {},
   "source": [
    "add combined measurement units as column"
   ]
  },
  {
   "cell_type": "code",
   "execution_count": 28,
   "metadata": {},
   "outputs": [],
   "source": [
    "responses2  = pd.concat([responses.loc[:,:'4c-2. Measurement unit:'],\n",
    "                         pd.Series(measurement_unit,name='4c. Measurement unit:'),\n",
    "                         responses.loc[:,'4d. Type of value':]],axis=1)"
   ]
  },
  {
   "cell_type": "markdown",
   "metadata": {},
   "source": [
    "### conversion"
   ]
  },
  {
   "cell_type": "code",
   "execution_count": 29,
   "metadata": {},
   "outputs": [],
   "source": [
    "m2peracre = 4046.86\n",
    "m2perft2 = 10.7639\n",
    "\n",
    "WattUnits = pd.DataFrame({'start':    ['W/ft2',   'kW/m2', 'kW/ha','kW/acre',      'MW/m2', 'MW/ha','MW/km2','MW/acre'],\n",
    "                          'target':   'W/m2',\n",
    "                          'factor':   [1/m2perft2, 1000,   0.1,    1000/m2peracre, 1/10**6, 100,    1,       10**6/m2peracre]})\n",
    "OtherWattUnits = pd.DataFrame({'start':   ['kWp/m2', 'MWp/ha', 'kWe/m2', 'GWe/m2', 'MWi/km2'],\n",
    "                               'target':  ['Wp/m2',  'Wp/m2',  'We/m2',  'We/m2',  'Wi/m2'],\n",
    "                               'factor':  [1000,     100,      1000,     10**6,    1]})\n",
    "WatthUnits = pd.DataFrame({'start':  ['Wh/cm2/day', 'kWh/year/acre', 'kWh/year/ft2','kWh/year/ha','MWh/year/acre','MWh/year/m2','MWh/year/ha','GWh/year/m2','GWh/year/km2','GJ/year/m2','TWh/year/km2'],\n",
    "                           'target': 'kWh/year/m2',\n",
    "                           'factor': [3650,         1/m2peracre,     1/m2perft2,    1/10**4,      1000/m2peracre, 1000,         0.1,          10**6,        1,             10**6/3600,  1000]})\n",
    "AreaPowerUnits = pd.DataFrame({'start':  ['m2/W',  'm2/Wp',  'm2/MW',  'ha/MW', 'ha/MWp', 'acre/MW',      'acre/MW-DC',   'acre/MW-AC',   'km2/MW'],\n",
    "                               'target': ['m2/kW', 'm2/kWp', 'm2/kW',  'm2/kW', 'm2/kWp', 'm2/kW',        'm2/kW-DC',     'm2/kW-AC',     'm2/kW'],\n",
    "                               'factor': [1000,    1000,     1/1000,   10,      10,       m2peracre/1000, m2peracre/1000, m2peracre/1000, 1000]})\n",
    "AreaEnergyUnits = pd.DataFrame({'start':  ['m2/MWh','m2/GWh','km2/GWh','km2/TWh','m2/MWh/year','ha/MWh/year','ha/GWh/year','ha/TWh/year','km2/TWh/year'],\n",
    "                                'target': ['m2/kWh','m2/kWh','m2/kWh', 'm2/kWh', 'm2/kWh/year','m2/kWh/year','m2/kWh/year','m2/kWh/year','m2/kWh/year'],\n",
    "                                'factor': [1/1000,  1/10**6, 1,        1/1000,   1/1000,       10,           0.01,         1/10**5,      1]})\n",
    "\n",
    "unit_conversion = pd.concat([WattUnits,OtherWattUnits,WatthUnits,AreaPowerUnits,AreaEnergyUnits],axis=0)"
   ]
  },
  {
   "cell_type": "code",
   "execution_count": 30,
   "metadata": {},
   "outputs": [],
   "source": [
    "new_unit = responses2['4c. Measurement unit:'].map(unit_conversion.set_index('start').target)\n",
    "factor = responses2['4c. Measurement unit:'].map(unit_conversion.set_index('start').factor)\n",
    "# fill in lines where unit stays the same\n",
    "new_unit[new_unit.isna()] = responses2['4c. Measurement unit:'][new_unit.isna()]\n",
    "factor = factor.fillna(1)\n",
    "new_value = responses2['4a. Numeric value, e.g., 0.3, 1.5, 3'][value_is_numeric=='Passed'].apply(float)*factor[value_is_numeric=='Passed']"
   ]
  },
  {
   "cell_type": "code",
   "execution_count": 31,
   "metadata": {},
   "outputs": [],
   "source": [
    "responses3 = pd.concat([responses2.loc[:,:'4a. Numeric value, e.g., 0.3, 1.5, 3'],\n",
    "                        pd.Series(responses2.index.map(new_value),name='4a-1. Converted value',index=responses2.index),\n",
    "                        responses2.loc[:,'4b. Is power-related component of the land-use requirement expressed as energy e.g., ha/GWh/year?':'4c. Measurement unit:'],\n",
    "                        pd.Series(new_unit,name='4c-3. Converted measurement unit'),\n",
    "                        responses2.loc[:,'4d. Type of value':]],axis=1)"
   ]
  },
  {
   "cell_type": "markdown",
   "metadata": {},
   "source": [
    "### find outliers"
   ]
  },
  {
   "cell_type": "markdown",
   "metadata": {},
   "source": [
    "only look for outliers where there are more than 10 values"
   ]
  },
  {
   "cell_type": "code",
   "execution_count": 32,
   "metadata": {},
   "outputs": [],
   "source": [
    "frequency_units = responses3['4c-3. Converted measurement unit'].groupby(responses3['4c-3. Converted measurement unit']).count()"
   ]
  },
  {
   "cell_type": "code",
   "execution_count": 33,
   "metadata": {
    "code_folding": [
     0,
     13
    ]
   },
   "outputs": [],
   "source": [
    "def find_outliers(data):\n",
    "    #define a list to accumlate anomalies\n",
    "    outliers = []\n",
    "    # Set upper and lower limit to 3 standard deviation\n",
    "    stdev = np.std(data)\n",
    "    avg = np.mean(data)\n",
    "    lower_limit  = avg - stdev*3 \n",
    "    upper_limit = avg + stdev*3\n",
    "    # Find outliers\n",
    "    def test_if_in_range(value):\n",
    "        return in_range(lower_limit,upper_limit,value)\n",
    "    return data.apply(test_if_in_range)\n",
    "\n",
    "def in_range(lower,upper,value):\n",
    "    if (value > lower) & (value < upper):\n",
    "        return 'Passed'\n",
    "    else:\n",
    "        return 'Failed'"
   ]
  },
  {
   "cell_type": "code",
   "execution_count": 34,
   "metadata": {},
   "outputs": [],
   "source": [
    "outliers = pd.concat([find_outliers(responses3[responses3['4c-3. Converted measurement unit']==unit]['4a-1. Converted value']) for unit in frequency_units.index[(frequency_units>10)].values],axis=0)"
   ]
  },
  {
   "cell_type": "code",
   "execution_count": 35,
   "metadata": {},
   "outputs": [],
   "source": [
    "value_within_range = pd.Series(responses3.index.map(outliers).fillna('Too few values or not standardised'),name='value_range',index=responses3.index)"
   ]
  },
  {
   "cell_type": "markdown",
   "metadata": {},
   "source": [
    "## check if matches: DOI + first Author + scopus_id + year of publication"
   ]
  },
  {
   "cell_type": "code",
   "execution_count": 36,
   "metadata": {},
   "outputs": [],
   "source": [
    "rev_file = pd.read_csv(review_path + 'SCOPUS_DOI2.csv',encoding = \"utf-8\",dtype=str).dropna().drop_duplicates()"
   ]
  },
  {
   "cell_type": "code",
   "execution_count": 37,
   "metadata": {},
   "outputs": [],
   "source": [
    "mapped_SCOPUS = responses3['1b. DOI link'].map(rev_file.set_index('DOI').SCOPUS)\n",
    "scopusID_fits_doi = pd.Series(responses3.index.map(mapped_SCOPUS.dropna()==responses3['1a. SCOPUS ID'].apply(str)[mapped_SCOPUS.notna()]),\n",
    "                              index=responses3.index,name='scopusID_fits_doi'\n",
    "                             ).fillna('Not available').replace(True,'Passed').replace(False,'Failed')"
   ]
  },
  {
   "cell_type": "code",
   "execution_count": 38,
   "metadata": {},
   "outputs": [],
   "source": [
    "results_quality_check = pd.concat([individual_check,is_iso_code,value_is_numeric,metric_fits_powercalculation,metric_fits_unit,value_within_range,scopusID_fits_doi],axis=1)"
   ]
  },
  {
   "cell_type": "code",
   "execution_count": 39,
   "metadata": {},
   "outputs": [],
   "source": [
    "results_quality_check.to_csv(path + 'results_quality_check.csv')"
   ]
  },
  {
   "cell_type": "code",
   "execution_count": 40,
   "metadata": {},
   "outputs": [
    {
     "data": {
      "text/html": [
       "<div>\n",
       "<style scoped>\n",
       "    .dataframe tbody tr th:only-of-type {\n",
       "        vertical-align: middle;\n",
       "    }\n",
       "\n",
       "    .dataframe tbody tr th {\n",
       "        vertical-align: top;\n",
       "    }\n",
       "\n",
       "    .dataframe thead th {\n",
       "        text-align: right;\n",
       "    }\n",
       "</style>\n",
       "<table border=\"1\" class=\"dataframe\">\n",
       "  <thead>\n",
       "    <tr style=\"text-align: right;\">\n",
       "      <th></th>\n",
       "      <th>individual_check</th>\n",
       "      <th>iso_code</th>\n",
       "      <th>numeric_value</th>\n",
       "      <th>metric_fits_powercalculation</th>\n",
       "      <th>metric_fits_unit</th>\n",
       "      <th>value_range</th>\n",
       "      <th>scopusID_fits_doi</th>\n",
       "    </tr>\n",
       "  </thead>\n",
       "  <tbody>\n",
       "    <tr>\n",
       "      <th>357.0</th>\n",
       "      <td>Passed</td>\n",
       "      <td>Failed</td>\n",
       "      <td>Passed</td>\n",
       "      <td>Unclear</td>\n",
       "      <td>Passed</td>\n",
       "      <td>Passed</td>\n",
       "      <td>Passed</td>\n",
       "    </tr>\n",
       "    <tr>\n",
       "      <th>358.0</th>\n",
       "      <td>Passed</td>\n",
       "      <td>Failed</td>\n",
       "      <td>Passed</td>\n",
       "      <td>Unclear</td>\n",
       "      <td>Passed</td>\n",
       "      <td>Passed</td>\n",
       "      <td>Passed</td>\n",
       "    </tr>\n",
       "    <tr>\n",
       "      <th>359.0</th>\n",
       "      <td>Passed</td>\n",
       "      <td>Failed</td>\n",
       "      <td>Passed</td>\n",
       "      <td>Unclear</td>\n",
       "      <td>Passed</td>\n",
       "      <td>Passed</td>\n",
       "      <td>Passed</td>\n",
       "    </tr>\n",
       "    <tr>\n",
       "      <th>166.0</th>\n",
       "      <td>Passed</td>\n",
       "      <td>Failed</td>\n",
       "      <td>Passed</td>\n",
       "      <td>Unclear</td>\n",
       "      <td>Passed</td>\n",
       "      <td>Passed</td>\n",
       "      <td>Passed</td>\n",
       "    </tr>\n",
       "    <tr>\n",
       "      <th>167.0</th>\n",
       "      <td>Passed</td>\n",
       "      <td>Failed</td>\n",
       "      <td>Passed</td>\n",
       "      <td>Unclear</td>\n",
       "      <td>Passed</td>\n",
       "      <td>Passed</td>\n",
       "      <td>Passed</td>\n",
       "    </tr>\n",
       "    <tr>\n",
       "      <th>...</th>\n",
       "      <td>...</td>\n",
       "      <td>...</td>\n",
       "      <td>...</td>\n",
       "      <td>...</td>\n",
       "      <td>...</td>\n",
       "      <td>...</td>\n",
       "      <td>...</td>\n",
       "    </tr>\n",
       "    <tr>\n",
       "      <th>2256.0</th>\n",
       "      <td>Passed</td>\n",
       "      <td>Passed</td>\n",
       "      <td>Passed</td>\n",
       "      <td>Failed</td>\n",
       "      <td>Passed</td>\n",
       "      <td>Passed</td>\n",
       "      <td>Not available</td>\n",
       "    </tr>\n",
       "    <tr>\n",
       "      <th>2257.0</th>\n",
       "      <td>Passed</td>\n",
       "      <td>Passed</td>\n",
       "      <td>Passed</td>\n",
       "      <td>Failed</td>\n",
       "      <td>Passed</td>\n",
       "      <td>Failed</td>\n",
       "      <td>Not available</td>\n",
       "    </tr>\n",
       "    <tr>\n",
       "      <th>2258.0</th>\n",
       "      <td>Passed</td>\n",
       "      <td>Passed</td>\n",
       "      <td>Passed</td>\n",
       "      <td>Failed</td>\n",
       "      <td>Passed</td>\n",
       "      <td>Passed</td>\n",
       "      <td>Passed</td>\n",
       "    </tr>\n",
       "    <tr>\n",
       "      <th>2259.0</th>\n",
       "      <td>Passed</td>\n",
       "      <td>Passed</td>\n",
       "      <td>Passed</td>\n",
       "      <td>Passed</td>\n",
       "      <td>Passed</td>\n",
       "      <td>Passed</td>\n",
       "      <td>Not available</td>\n",
       "    </tr>\n",
       "    <tr>\n",
       "      <th>2260.0</th>\n",
       "      <td>Passed</td>\n",
       "      <td>Passed</td>\n",
       "      <td>Passed</td>\n",
       "      <td>Passed</td>\n",
       "      <td>Passed</td>\n",
       "      <td>Passed</td>\n",
       "      <td>Not available</td>\n",
       "    </tr>\n",
       "  </tbody>\n",
       "</table>\n",
       "<p>2038 rows × 7 columns</p>\n",
       "</div>"
      ],
      "text/plain": [
       "       individual_check iso_code numeric_value metric_fits_powercalculation  \\\n",
       "357.0            Passed   Failed        Passed                      Unclear   \n",
       "358.0            Passed   Failed        Passed                      Unclear   \n",
       "359.0            Passed   Failed        Passed                      Unclear   \n",
       "166.0            Passed   Failed        Passed                      Unclear   \n",
       "167.0            Passed   Failed        Passed                      Unclear   \n",
       "...                 ...      ...           ...                          ...   \n",
       "2256.0           Passed   Passed        Passed                       Failed   \n",
       "2257.0           Passed   Passed        Passed                       Failed   \n",
       "2258.0           Passed   Passed        Passed                       Failed   \n",
       "2259.0           Passed   Passed        Passed                       Passed   \n",
       "2260.0           Passed   Passed        Passed                       Passed   \n",
       "\n",
       "       metric_fits_unit value_range scopusID_fits_doi  \n",
       "357.0            Passed      Passed            Passed  \n",
       "358.0            Passed      Passed            Passed  \n",
       "359.0            Passed      Passed            Passed  \n",
       "166.0            Passed      Passed            Passed  \n",
       "167.0            Passed      Passed            Passed  \n",
       "...                 ...         ...               ...  \n",
       "2256.0           Passed      Passed     Not available  \n",
       "2257.0           Passed      Failed     Not available  \n",
       "2258.0           Passed      Passed            Passed  \n",
       "2259.0           Passed      Passed     Not available  \n",
       "2260.0           Passed      Passed     Not available  \n",
       "\n",
       "[2038 rows x 7 columns]"
      ]
     },
     "execution_count": 40,
     "metadata": {},
     "output_type": "execute_result"
    }
   ],
   "source": [
    "results_quality_check"
   ]
  },
  {
   "cell_type": "markdown",
   "metadata": {},
   "source": [
    "# split results per person and remove passed rows and columns"
   ]
  },
  {
   "cell_type": "code",
   "execution_count": 41,
   "metadata": {},
   "outputs": [],
   "source": [
    "def clean_and_save(data,name):\n",
    "    passed_results = (data == 'Passed').sum(axis=1)\n",
    "    not_available_results = (data == 'Not available').sum(axis=1)\n",
    "    data2 = data[passed_results+not_available_results<data.shape[1]]\n",
    "    passed_results = (data2 == 'Passed').sum(axis=0)\n",
    "    not_available_results = (data2 == 'Not available').sum(axis=0)\n",
    "    data3 = data2.loc[:,passed_results+not_available_results<data2.shape[0]]\n",
    "    data3.to_csv(output_path + name + '_result_automated_quality_check.csv')\n",
    "    return"
   ]
  },
  {
   "cell_type": "code",
   "execution_count": 42,
   "metadata": {},
   "outputs": [],
   "source": [
    "comments = pd.DataFrame(np.nan * np.ones(shape=results_quality_check.shape),\n",
    "                        columns=results_quality_check.columns.values + '_comment',\n",
    "                        index=results_quality_check.index)"
   ]
  },
  {
   "cell_type": "code",
   "execution_count": 43,
   "metadata": {},
   "outputs": [],
   "source": [
    "results_quality_check_with_comments = pd.concat([results_quality_check,comments],axis=1)"
   ]
  },
  {
   "cell_type": "code",
   "execution_count": 44,
   "metadata": {},
   "outputs": [
    {
     "name": "stdout",
     "output_type": "stream",
     "text": [
      "Luis\n",
      "Johannes\n",
      "Peter\n",
      "Olga\n",
      "Claude\n",
      "Michael\n",
      "Sebastian\n",
      "Katharina\n"
     ]
    }
   ],
   "source": [
    "for name in responses['Reviewed by'].unique():\n",
    "    print(name)\n",
    "    d = results_quality_check_with_comments[responses['Reviewed by']==name]\n",
    "    clean_and_save(d,name)"
   ]
  },
  {
   "cell_type": "markdown",
   "metadata": {},
   "source": [
    "also split results per person including new values"
   ]
  },
  {
   "cell_type": "code",
   "execution_count": 45,
   "metadata": {},
   "outputs": [
    {
     "name": "stdout",
     "output_type": "stream",
     "text": [
      "Luis\n",
      "Johannes\n",
      "Peter\n",
      "Olga\n",
      "Claude\n",
      "Michael\n",
      "Sebastian\n",
      "Katharina\n"
     ]
    }
   ],
   "source": [
    "for name in responses['Reviewed by'].unique():\n",
    "    print(name)\n",
    "    responses[responses['Reviewed by']==name].to_csv(output_path + name + '_results.csv')"
   ]
  },
  {
   "cell_type": "code",
   "execution_count": null,
   "metadata": {},
   "outputs": [],
   "source": []
  },
  {
   "cell_type": "markdown",
   "metadata": {
    "heading_collapsed": true
   },
   "source": [
    "#### extract bibtex info"
   ]
  },
  {
   "cell_type": "code",
   "execution_count": null,
   "metadata": {
    "hidden": true
   },
   "outputs": [],
   "source": [
    "import urllib.request"
   ]
  },
  {
   "cell_type": "code",
   "execution_count": null,
   "metadata": {
    "hidden": true
   },
   "outputs": [],
   "source": [
    "url = 'http://enviroinfo.eu/sites/default/files/pdfs/vol8514/0093.pdf'\n",
    "req = urllib.request.Request(url)\n",
    "req.add_header('Accept', 'application/x-bibtex')\n",
    "try:\n",
    "    with urllib.request.urlopen(req) as f:\n",
    "        bibtex = f.read().decode()\n",
    "    print(bibtex)\n",
    "except:\n",
    "    print('no doi')"
   ]
  },
  {
   "cell_type": "code",
   "execution_count": null,
   "metadata": {
    "hidden": true
   },
   "outputs": [],
   "source": [
    "clean_bibtex = pd.Series(str.replace(bibtex,\"'\",\"\").replace(\"},\",\"\").replace(\"{\",\"\").split(\"\\n\\t\"))[1:]"
   ]
  },
  {
   "cell_type": "code",
   "execution_count": null,
   "metadata": {
    "hidden": true
   },
   "outputs": [],
   "source": [
    "clean_bibtex.apply(lambda x: str.split(x,\" = \")[1]).values"
   ]
  },
  {
   "cell_type": "code",
   "execution_count": null,
   "metadata": {
    "hidden": true
   },
   "outputs": [],
   "source": [
    "pd.Series(clean_bibtex.apply(lambda x: str.split(x,\" = \")[1]).values,\n",
    "          index = clean_bibtex.apply(lambda x: str.split(x,\" = \")[0]))"
   ]
  }
 ],
 "metadata": {
  "kernelspec": {
   "display_name": "Python [conda env:.conda-py39]",
   "language": "python",
   "name": "conda-env-.conda-py39-py"
  },
  "language_info": {
   "codemirror_mode": {
    "name": "ipython",
    "version": 3
   },
   "file_extension": ".py",
   "mimetype": "text/x-python",
   "name": "python",
   "nbconvert_exporter": "python",
   "pygments_lexer": "ipython3",
   "version": "3.9.6"
  }
 },
 "nbformat": 4,
 "nbformat_minor": 4
}
