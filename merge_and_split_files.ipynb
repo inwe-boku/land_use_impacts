{
 "cells": [
  {
   "cell_type": "code",
   "execution_count": 73,
   "metadata": {},
   "outputs": [],
   "source": [
    "import pandas as pd\n",
    "import numpy as np"
   ]
  },
  {
   "cell_type": "code",
   "execution_count": 2,
   "metadata": {},
   "outputs": [],
   "source": [
    "path = '/data/users/kgruber/other-data/impacts_paper/'"
   ]
  },
  {
   "cell_type": "markdown",
   "metadata": {},
   "source": [
    "read main results file"
   ]
  },
  {
   "cell_type": "code",
   "execution_count": 12,
   "metadata": {},
   "outputs": [],
   "source": [
    "columns = ['Timestamp','1a. SCOPUS ID','1b. DOI link','1c. Last name of the first author','1d. Year of publication:','2. VRES technology:','3. Metrics used:','4a. Numeric value, e.g., 0.3, 1.5, 3','4b. Is power-related component of the land-use requirement expressed as energy e.g., ha/GWh/year?','4c-1. Measurement unit:','4c-2. Measurement unit:','4d. Type of value','4e. Geographical scale:','5a.  Temporary needed areas for the plant construction are included ','5b. Main modules of the plant, e.g., wind turbines,  solar PV, heliostats, etc. are included:','5c. Roads are included:','5d. The substation is included:','5e. Transmission lines are included:','5f. Other infrastructure included: ','6a. Area occupied by the infrastructure (questions 5a-f) was:','6b. Were the following data sources used to measure the area occupied by the infrastructure:','7. Area of the infrastructure, which is not located nearby the facility but necessary for its operation (e.g., mines, plants that manufacture PV-modules etc.),  is reported:','8a. Is spacing area included?','8b. Spacing area was quantified by using:','9a. Project area is reported:','9b. Project area refer to ','9c. Data on project were derived from','10. Power-related component of land-use requirements  is represented by: ','11a. Installation year(s):','11b. Area is estimated per: ','11c. Power / energy is estimated per: ','Additional characteristics reported:','Characterstic-1','Value-1','Unit-1','More characteristics are reported:','Characterstic-2','Value-2','Unit-2','More characteristics are reported:','Characterstic-3','Value-3','Unit-3','More characteristics are reported:','Characterstic-4','Value-4','Unit-4','More characteristics are reported:','Characterstic-5','Value-5','Unit-5','More characteristics are reported:','Characterstic-6','Value-6','Unit-6','More characteristics are reported:','Characterstic-7','Value-7','Unit-7','More characteristics are reported:','Characterstic-8','Value-8','Unit-8','More characteristics are reported:','Characterstic-9','Value-9','Unit-9','More characteristics are reported:','Characterstic-10','Value-10','Unit-10','More characteristics are reported:','Reviewed by','Comments','Country:','Subregion, e.g., state, biome, county, etc.:','','Any additional information about the location of the facility:','Provide the reference to the place in the paper, where the value can be found, e.g., table X, figure X, page XX paragraph X']"
   ]
  },
  {
   "cell_type": "raw",
   "metadata": {},
   "source": [
    "results = pd.read_excel(path + 'lit-review (Responses).xlsx',engine='openpyxl')#,names=columns)"
   ]
  },
  {
   "cell_type": "code",
   "execution_count": 64,
   "metadata": {},
   "outputs": [],
   "source": [
    "results = pd.read_csv(path + 'lit-review (Responses).csv').iloc[:,:79]\n",
    "results.columns = results.columns.str.replace('  ',' ').str.strip()"
   ]
  },
  {
   "cell_type": "code",
   "execution_count": 99,
   "metadata": {},
   "outputs": [],
   "source": [
    "additional_files = ['Ciliberti_Johannes.xlsx','DeMeo_1997.xlsx','Lingzhi_2018.xlsx','MacKey_2013.xlsx',\n",
    "                    'Olga_Enevoldsen2021.xlsx','Pletk_2007.xlsx','Reddy_2012.xlsx']\n",
    "multitab_file = 'additional-values-for-review-johannes.xlsx'\n",
    "sheets = pd.ExcelFile(path + multitab_file, engine='openpyxl').sheet_names"
   ]
  },
  {
   "cell_type": "code",
   "execution_count": 87,
   "metadata": {},
   "outputs": [],
   "source": [
    "f1 = pd.read_excel(path + additional_files[0],engine='openpyxl').iloc[:,:79]\n",
    "f1.columns = list(f1.columns[:-1].str.replace('  ',' ').str.strip()) + [columns[-1]]"
   ]
  },
  {
   "cell_type": "code",
   "execution_count": 96,
   "metadata": {},
   "outputs": [],
   "source": [
    "f2 = pd.read_excel(path + additional_files[6],engine='openpyxl').iloc[:,:79]\n",
    "f2.columns = list(f2.columns[:-1].str.replace('  ',' ').str.strip()) + [columns[-1]]"
   ]
  },
  {
   "cell_type": "code",
   "execution_count": 115,
   "metadata": {},
   "outputs": [],
   "source": [
    "f7 = pd.read_excel(path + multitab_file, engine='openpyxl',sheet_name=sheets[4])"
   ]
  }
 ],
 "metadata": {
  "kernelspec": {
   "display_name": "Python [conda env:.conda-py39]",
   "language": "python",
   "name": "conda-env-.conda-py39-py"
  },
  "language_info": {
   "codemirror_mode": {
    "name": "ipython",
    "version": 3
   },
   "file_extension": ".py",
   "mimetype": "text/x-python",
   "name": "python",
   "nbconvert_exporter": "python",
   "pygments_lexer": "ipython3",
   "version": "3.9.6"
  }
 },
 "nbformat": 4,
 "nbformat_minor": 4
}
